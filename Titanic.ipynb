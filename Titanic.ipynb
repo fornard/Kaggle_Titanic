{
 "cells": [
  {
   "cell_type": "markdown",
   "metadata": {},
   "source": [
    "# Projeto Titanic Regressão"
   ]
  },
  {
   "cell_type": "markdown",
   "metadata": {},
   "source": [
    "# Importando Bibliotecas"
   ]
  },
  {
   "cell_type": "code",
   "execution_count": 1,
   "metadata": {},
   "outputs": [],
   "source": [
    "import numpy as np\n",
    "import pandas as pd \n",
    "import seaborn as sns\n",
    "import matplotlib.pyplot as plt\n",
    "from datetime import datetime\n",
    "sns.set(style=\"white\")\n",
    "import seaborn as sns\n",
    "from scipy.stats import chi2_contingency\n",
    "import os"
   ]
  },
  {
   "cell_type": "markdown",
   "metadata": {},
   "source": [
    "# Importando DataFrame"
   ]
  },
  {
   "cell_type": "code",
   "execution_count": 2,
   "metadata": {},
   "outputs": [],
   "source": [
    "#Configurando parametros de exibicao do pandas\n",
    "pd.set_option('display.max_columns', None)\n",
    "pd.set_option('display.max_rows', 100)"
   ]
  },
  {
   "cell_type": "code",
   "execution_count": 3,
   "metadata": {},
   "outputs": [
    {
     "data": {
      "text/html": [
       "<div>\n",
       "<style scoped>\n",
       "    .dataframe tbody tr th:only-of-type {\n",
       "        vertical-align: middle;\n",
       "    }\n",
       "\n",
       "    .dataframe tbody tr th {\n",
       "        vertical-align: top;\n",
       "    }\n",
       "\n",
       "    .dataframe thead th {\n",
       "        text-align: right;\n",
       "    }\n",
       "</style>\n",
       "<table border=\"1\" class=\"dataframe\">\n",
       "  <thead>\n",
       "    <tr style=\"text-align: right;\">\n",
       "      <th></th>\n",
       "      <th>Survived</th>\n",
       "      <th>Pclass</th>\n",
       "      <th>Name</th>\n",
       "      <th>Sex</th>\n",
       "      <th>Age</th>\n",
       "      <th>Siblings/Spouses Aboard</th>\n",
       "      <th>Parents/Children Aboard</th>\n",
       "      <th>Fare</th>\n",
       "    </tr>\n",
       "  </thead>\n",
       "  <tbody>\n",
       "    <tr>\n",
       "      <th>0</th>\n",
       "      <td>0</td>\n",
       "      <td>3</td>\n",
       "      <td>Mr. Owen Harris Braund</td>\n",
       "      <td>male</td>\n",
       "      <td>22.0</td>\n",
       "      <td>1</td>\n",
       "      <td>0</td>\n",
       "      <td>7.2500</td>\n",
       "    </tr>\n",
       "    <tr>\n",
       "      <th>1</th>\n",
       "      <td>1</td>\n",
       "      <td>1</td>\n",
       "      <td>Mrs. John Bradley (Florence Briggs Thayer) Cum...</td>\n",
       "      <td>female</td>\n",
       "      <td>38.0</td>\n",
       "      <td>1</td>\n",
       "      <td>0</td>\n",
       "      <td>71.2833</td>\n",
       "    </tr>\n",
       "    <tr>\n",
       "      <th>2</th>\n",
       "      <td>1</td>\n",
       "      <td>3</td>\n",
       "      <td>Miss. Laina Heikkinen</td>\n",
       "      <td>female</td>\n",
       "      <td>26.0</td>\n",
       "      <td>0</td>\n",
       "      <td>0</td>\n",
       "      <td>7.9250</td>\n",
       "    </tr>\n",
       "    <tr>\n",
       "      <th>3</th>\n",
       "      <td>1</td>\n",
       "      <td>1</td>\n",
       "      <td>Mrs. Jacques Heath (Lily May Peel) Futrelle</td>\n",
       "      <td>female</td>\n",
       "      <td>35.0</td>\n",
       "      <td>1</td>\n",
       "      <td>0</td>\n",
       "      <td>53.1000</td>\n",
       "    </tr>\n",
       "    <tr>\n",
       "      <th>4</th>\n",
       "      <td>0</td>\n",
       "      <td>3</td>\n",
       "      <td>Mr. William Henry Allen</td>\n",
       "      <td>male</td>\n",
       "      <td>35.0</td>\n",
       "      <td>0</td>\n",
       "      <td>0</td>\n",
       "      <td>8.0500</td>\n",
       "    </tr>\n",
       "    <tr>\n",
       "      <th>...</th>\n",
       "      <td>...</td>\n",
       "      <td>...</td>\n",
       "      <td>...</td>\n",
       "      <td>...</td>\n",
       "      <td>...</td>\n",
       "      <td>...</td>\n",
       "      <td>...</td>\n",
       "      <td>...</td>\n",
       "    </tr>\n",
       "    <tr>\n",
       "      <th>882</th>\n",
       "      <td>0</td>\n",
       "      <td>2</td>\n",
       "      <td>Rev. Juozas Montvila</td>\n",
       "      <td>male</td>\n",
       "      <td>27.0</td>\n",
       "      <td>0</td>\n",
       "      <td>0</td>\n",
       "      <td>13.0000</td>\n",
       "    </tr>\n",
       "    <tr>\n",
       "      <th>883</th>\n",
       "      <td>1</td>\n",
       "      <td>1</td>\n",
       "      <td>Miss. Margaret Edith Graham</td>\n",
       "      <td>female</td>\n",
       "      <td>19.0</td>\n",
       "      <td>0</td>\n",
       "      <td>0</td>\n",
       "      <td>30.0000</td>\n",
       "    </tr>\n",
       "    <tr>\n",
       "      <th>884</th>\n",
       "      <td>0</td>\n",
       "      <td>3</td>\n",
       "      <td>Miss. Catherine Helen Johnston</td>\n",
       "      <td>female</td>\n",
       "      <td>7.0</td>\n",
       "      <td>1</td>\n",
       "      <td>2</td>\n",
       "      <td>23.4500</td>\n",
       "    </tr>\n",
       "    <tr>\n",
       "      <th>885</th>\n",
       "      <td>1</td>\n",
       "      <td>1</td>\n",
       "      <td>Mr. Karl Howell Behr</td>\n",
       "      <td>male</td>\n",
       "      <td>26.0</td>\n",
       "      <td>0</td>\n",
       "      <td>0</td>\n",
       "      <td>30.0000</td>\n",
       "    </tr>\n",
       "    <tr>\n",
       "      <th>886</th>\n",
       "      <td>0</td>\n",
       "      <td>3</td>\n",
       "      <td>Mr. Patrick Dooley</td>\n",
       "      <td>male</td>\n",
       "      <td>32.0</td>\n",
       "      <td>0</td>\n",
       "      <td>0</td>\n",
       "      <td>7.7500</td>\n",
       "    </tr>\n",
       "  </tbody>\n",
       "</table>\n",
       "<p>887 rows × 8 columns</p>\n",
       "</div>"
      ],
      "text/plain": [
       "     Survived  Pclass                                               Name  \\\n",
       "0           0       3                             Mr. Owen Harris Braund   \n",
       "1           1       1  Mrs. John Bradley (Florence Briggs Thayer) Cum...   \n",
       "2           1       3                              Miss. Laina Heikkinen   \n",
       "3           1       1        Mrs. Jacques Heath (Lily May Peel) Futrelle   \n",
       "4           0       3                            Mr. William Henry Allen   \n",
       "..        ...     ...                                                ...   \n",
       "882         0       2                               Rev. Juozas Montvila   \n",
       "883         1       1                        Miss. Margaret Edith Graham   \n",
       "884         0       3                     Miss. Catherine Helen Johnston   \n",
       "885         1       1                               Mr. Karl Howell Behr   \n",
       "886         0       3                                 Mr. Patrick Dooley   \n",
       "\n",
       "        Sex   Age  Siblings/Spouses Aboard  Parents/Children Aboard     Fare  \n",
       "0      male  22.0                        1                        0   7.2500  \n",
       "1    female  38.0                        1                        0  71.2833  \n",
       "2    female  26.0                        0                        0   7.9250  \n",
       "3    female  35.0                        1                        0  53.1000  \n",
       "4      male  35.0                        0                        0   8.0500  \n",
       "..      ...   ...                      ...                      ...      ...  \n",
       "882    male  27.0                        0                        0  13.0000  \n",
       "883  female  19.0                        0                        0  30.0000  \n",
       "884  female   7.0                        1                        2  23.4500  \n",
       "885    male  26.0                        0                        0  30.0000  \n",
       "886    male  32.0                        0                        0   7.7500  \n",
       "\n",
       "[887 rows x 8 columns]"
      ]
     },
     "execution_count": 3,
     "metadata": {},
     "output_type": "execute_result"
    }
   ],
   "source": [
    "#importando DF\n",
    "df = pd.read_csv('titanic.csv')\n",
    "df"
   ]
  },
  {
   "cell_type": "markdown",
   "metadata": {},
   "source": [
    "# Verificando extrutura geral do DF"
   ]
  },
  {
   "cell_type": "code",
   "execution_count": 4,
   "metadata": {},
   "outputs": [
    {
     "data": {
      "text/plain": [
       "(887, 8)"
      ]
     },
     "execution_count": 4,
     "metadata": {},
     "output_type": "execute_result"
    }
   ],
   "source": [
    "#verificando shape\n",
    "df.shape"
   ]
  },
  {
   "cell_type": "code",
   "execution_count": 5,
   "metadata": {},
   "outputs": [
    {
     "name": "stdout",
     "output_type": "stream",
     "text": [
      "<class 'pandas.core.frame.DataFrame'>\n",
      "RangeIndex: 887 entries, 0 to 886\n",
      "Data columns (total 8 columns):\n",
      "Survived                   887 non-null int64\n",
      "Pclass                     887 non-null int64\n",
      "Name                       887 non-null object\n",
      "Sex                        887 non-null object\n",
      "Age                        887 non-null float64\n",
      "Siblings/Spouses Aboard    887 non-null int64\n",
      "Parents/Children Aboard    887 non-null int64\n",
      "Fare                       887 non-null float64\n",
      "dtypes: float64(2), int64(4), object(2)\n",
      "memory usage: 55.6+ KB\n"
     ]
    }
   ],
   "source": [
    "#Verificando classificacao do DF\n",
    "df.info()"
   ]
  },
  {
   "cell_type": "code",
   "execution_count": 6,
   "metadata": {},
   "outputs": [
    {
     "name": "stdout",
     "output_type": "stream",
     "text": [
      "Empty DataFrame\n",
      "Columns: [Total, Percentage]\n",
      "Index: []\n",
      "\n",
      "********TOTALS**********\n",
      " Total         0\n",
      "Percentage    0\n",
      "dtype: int64\n"
     ]
    },
    {
     "name": "stderr",
     "output_type": "stream",
     "text": [
      "/Library/Python/3.7/site-packages/ipykernel_launcher.py:4: FutureWarning: Sorting because non-concatenation axis is not aligned. A future version\n",
      "of pandas will change to not sort by default.\n",
      "\n",
      "To accept the future behavior, pass 'sort=False'.\n",
      "\n",
      "To retain the current behavior and silence the warning, pass 'sort=True'.\n",
      "\n",
      "  after removing the cwd from sys.path.\n"
     ]
    }
   ],
   "source": [
    "#Verificando Nulls\n",
    "miss_sum = pd.DataFrame(df.isnull().sum().sort_values(ascending=False), columns = ['Total'])\n",
    "miss_percent = pd.DataFrame((df.isnull().sum()/df.isnull().count()*100), columns = ['Percentage'])\n",
    "missfulldf = pd.concat([miss_sum,miss_percent], axis=1)\n",
    "print(missfulldf[missfulldf['Total']>0])\n",
    "print('\\n********TOTALS**********\\n',missfulldf[missfulldf['Total']>0].count())"
   ]
  },
  {
   "cell_type": "code",
   "execution_count": 7,
   "metadata": {},
   "outputs": [
    {
     "name": "stdout",
     "output_type": "stream",
     "text": [
      "                         Total  Percentage\n",
      "Fare                        15    1.691094\n",
      "Parents/Children Aboard    674   75.986471\n",
      "Siblings/Spouses Aboard    604   68.094701\n",
      "Survived                   545   61.443067\n",
      "\n",
      "********TOTALS**********\n",
      " Total         4\n",
      "Percentage    4\n",
      "dtype: int64\n"
     ]
    },
    {
     "name": "stderr",
     "output_type": "stream",
     "text": [
      "/Library/Python/3.7/site-packages/ipykernel_launcher.py:4: FutureWarning: Sorting because non-concatenation axis is not aligned. A future version\n",
      "of pandas will change to not sort by default.\n",
      "\n",
      "To accept the future behavior, pass 'sort=False'.\n",
      "\n",
      "To retain the current behavior and silence the warning, pass 'sort=True'.\n",
      "\n",
      "  after removing the cwd from sys.path.\n"
     ]
    }
   ],
   "source": [
    "#Verificando Variaveis com valor = 0\n",
    "zeros_sum = pd.DataFrame(df[(df==0)].count().sort_values(ascending=False), columns = ['Total'])\n",
    "zeros_percent = pd.DataFrame((df[(df==0)].count()/df.isnull().count()*100), columns = ['Percentage'])\n",
    "zerosfulldf = pd.concat([zeros_sum,zeros_percent], axis=1)\n",
    "print(zerosfulldf[zerosfulldf['Total']>0])\n",
    "print('\\n********TOTALS**********\\n',zerosfulldf[zerosfulldf['Total']>0].count())"
   ]
  },
  {
   "cell_type": "markdown",
   "metadata": {},
   "source": [
    "* Survived -> 0 e uma possivel entrada\n",
    "* Siblings/Spouses Aboard -> 0 e uma possivel entrada\n",
    "* Parents/Children Aboard -> 0 e uma possivel entrada\n",
    "* **Fare -> Nao exite tarifa 0, precisamos tratar esse dado**"
   ]
  },
  {
   "cell_type": "code",
   "execution_count": 8,
   "metadata": {},
   "outputs": [
    {
     "name": "stdout",
     "output_type": "stream",
     "text": [
      "<class 'pandas.core.frame.DataFrame'>\n",
      "RangeIndex: 887 entries, 0 to 886\n",
      "Data columns (total 8 columns):\n",
      "Survived                   887 non-null category\n",
      "Pclass                     887 non-null category\n",
      "Name                       887 non-null category\n",
      "Sex                        887 non-null category\n",
      "Age                        887 non-null float64\n",
      "Siblings/Spouses Aboard    887 non-null int64\n",
      "Parents/Children Aboard    887 non-null int64\n",
      "Fare                       887 non-null float64\n",
      "dtypes: category(4), float64(2), int64(2)\n",
      "memory usage: 79.4 KB\n"
     ]
    }
   ],
   "source": [
    "#Convertendo variaveis Name e Sex para categoricas\n",
    "df = df.astype({'Name':'category','Sex':'category', 'Survived':'category','Pclass':'category'})\n",
    "df.info()"
   ]
  },
  {
   "cell_type": "code",
   "execution_count": 9,
   "metadata": {},
   "outputs": [
    {
     "data": {
      "text/html": [
       "<div>\n",
       "<style scoped>\n",
       "    .dataframe tbody tr th:only-of-type {\n",
       "        vertical-align: middle;\n",
       "    }\n",
       "\n",
       "    .dataframe tbody tr th {\n",
       "        vertical-align: top;\n",
       "    }\n",
       "\n",
       "    .dataframe thead th {\n",
       "        text-align: right;\n",
       "    }\n",
       "</style>\n",
       "<table border=\"1\" class=\"dataframe\">\n",
       "  <thead>\n",
       "    <tr style=\"text-align: right;\">\n",
       "      <th></th>\n",
       "      <th>count</th>\n",
       "      <th>mean</th>\n",
       "      <th>std</th>\n",
       "      <th>min</th>\n",
       "      <th>25%</th>\n",
       "      <th>50%</th>\n",
       "      <th>75%</th>\n",
       "      <th>max</th>\n",
       "    </tr>\n",
       "  </thead>\n",
       "  <tbody>\n",
       "    <tr>\n",
       "      <th>Age</th>\n",
       "      <td>887.0</td>\n",
       "      <td>29.471443</td>\n",
       "      <td>14.121908</td>\n",
       "      <td>0.42</td>\n",
       "      <td>20.250</td>\n",
       "      <td>28.0000</td>\n",
       "      <td>38.0000</td>\n",
       "      <td>80.0000</td>\n",
       "    </tr>\n",
       "    <tr>\n",
       "      <th>Siblings/Spouses Aboard</th>\n",
       "      <td>887.0</td>\n",
       "      <td>0.525366</td>\n",
       "      <td>1.104669</td>\n",
       "      <td>0.00</td>\n",
       "      <td>0.000</td>\n",
       "      <td>0.0000</td>\n",
       "      <td>1.0000</td>\n",
       "      <td>8.0000</td>\n",
       "    </tr>\n",
       "    <tr>\n",
       "      <th>Parents/Children Aboard</th>\n",
       "      <td>887.0</td>\n",
       "      <td>0.383315</td>\n",
       "      <td>0.807466</td>\n",
       "      <td>0.00</td>\n",
       "      <td>0.000</td>\n",
       "      <td>0.0000</td>\n",
       "      <td>0.0000</td>\n",
       "      <td>6.0000</td>\n",
       "    </tr>\n",
       "    <tr>\n",
       "      <th>Fare</th>\n",
       "      <td>887.0</td>\n",
       "      <td>32.305420</td>\n",
       "      <td>49.782040</td>\n",
       "      <td>0.00</td>\n",
       "      <td>7.925</td>\n",
       "      <td>14.4542</td>\n",
       "      <td>31.1375</td>\n",
       "      <td>512.3292</td>\n",
       "    </tr>\n",
       "  </tbody>\n",
       "</table>\n",
       "</div>"
      ],
      "text/plain": [
       "                         count       mean        std   min     25%      50%  \\\n",
       "Age                      887.0  29.471443  14.121908  0.42  20.250  28.0000   \n",
       "Siblings/Spouses Aboard  887.0   0.525366   1.104669  0.00   0.000   0.0000   \n",
       "Parents/Children Aboard  887.0   0.383315   0.807466  0.00   0.000   0.0000   \n",
       "Fare                     887.0  32.305420  49.782040  0.00   7.925  14.4542   \n",
       "\n",
       "                             75%       max  \n",
       "Age                      38.0000   80.0000  \n",
       "Siblings/Spouses Aboard   1.0000    8.0000  \n",
       "Parents/Children Aboard   0.0000    6.0000  \n",
       "Fare                     31.1375  512.3292  "
      ]
     },
     "execution_count": 9,
     "metadata": {},
     "output_type": "execute_result"
    }
   ],
   "source": [
    "#Verificando dados estatistico das variáveis numéricas\n",
    "df.describe().T\n"
   ]
  },
  {
   "cell_type": "markdown",
   "metadata": {},
   "source": [
    "* Age: Desvido padrão muito alto, idade inferior a 0, assimetria\n",
    "* Siblings/Spouses: Assimetrico, maioria não tinha parceiro a bordo\n",
    "* Parents/Children Aboard: Assimetrico, maioria não tinha filhos a bordo\n",
    "* Fare: Tarifas com 0, desvio padrão alto, assimetria"
   ]
  },
  {
   "cell_type": "code",
   "execution_count": 10,
   "metadata": {},
   "outputs": [
    {
     "data": {
      "text/html": [
       "<div>\n",
       "<style scoped>\n",
       "    .dataframe tbody tr th:only-of-type {\n",
       "        vertical-align: middle;\n",
       "    }\n",
       "\n",
       "    .dataframe tbody tr th {\n",
       "        vertical-align: top;\n",
       "    }\n",
       "\n",
       "    .dataframe thead th {\n",
       "        text-align: right;\n",
       "    }\n",
       "</style>\n",
       "<table border=\"1\" class=\"dataframe\">\n",
       "  <thead>\n",
       "    <tr style=\"text-align: right;\">\n",
       "      <th></th>\n",
       "      <th>count</th>\n",
       "      <th>unique</th>\n",
       "      <th>top</th>\n",
       "      <th>freq</th>\n",
       "    </tr>\n",
       "  </thead>\n",
       "  <tbody>\n",
       "    <tr>\n",
       "      <th>Survived</th>\n",
       "      <td>887</td>\n",
       "      <td>2</td>\n",
       "      <td>0</td>\n",
       "      <td>545</td>\n",
       "    </tr>\n",
       "    <tr>\n",
       "      <th>Pclass</th>\n",
       "      <td>887</td>\n",
       "      <td>3</td>\n",
       "      <td>3</td>\n",
       "      <td>487</td>\n",
       "    </tr>\n",
       "    <tr>\n",
       "      <th>Name</th>\n",
       "      <td>887</td>\n",
       "      <td>887</td>\n",
       "      <td>the Countess. of (Lucy Noel Martha Dyer-Edward...</td>\n",
       "      <td>1</td>\n",
       "    </tr>\n",
       "    <tr>\n",
       "      <th>Sex</th>\n",
       "      <td>887</td>\n",
       "      <td>2</td>\n",
       "      <td>male</td>\n",
       "      <td>573</td>\n",
       "    </tr>\n",
       "  </tbody>\n",
       "</table>\n",
       "</div>"
      ],
      "text/plain": [
       "         count unique                                                top freq\n",
       "Survived   887      2                                                  0  545\n",
       "Pclass     887      3                                                  3  487\n",
       "Name       887    887  the Countess. of (Lucy Noel Martha Dyer-Edward...    1\n",
       "Sex        887      2                                               male  573"
      ]
     },
     "execution_count": 10,
     "metadata": {},
     "output_type": "execute_result"
    }
   ],
   "source": [
    "#Verificando dados estatistico das variáveis categóricas\n",
    "df.describe(include ='category').T"
   ]
  },
  {
   "cell_type": "markdown",
   "metadata": {},
   "source": [
    "* Survived: Maoria morreu\n",
    "* Pclass: Maioria era da 3ra classe\n",
    "* Name: Não existem entradas com nome duplicados\n",
    "* Sex: Maioria do sexo masculino"
   ]
  },
  {
   "cell_type": "code",
   "execution_count": 11,
   "metadata": {},
   "outputs": [
    {
     "data": {
      "image/png": "[encoded data removed]",
      "text/plain": [
       "<Figure size 720x720 with 2 Axes>"
      ]
     },
     "metadata": {},
     "output_type": "display_data"
    }
   ],
   "source": [
    "#Verificanndo a correlação entre as variáveis numéricas\n",
    "plt.figure(figsize=(10,10))\n",
    "sns.heatmap(df.corr(),\n",
    "            vmin=-1,\n",
    "            cmap='coolwarm',\n",
    "            annot=True);"
   ]
  },
  {
   "cell_type": "markdown",
   "metadata": {},
   "source": [
    "* Não existe colinearidade"
   ]
  },
  {
   "cell_type": "code",
   "execution_count": 12,
   "metadata": {},
   "outputs": [
    {
     "name": "stdout",
     "output_type": "stream",
     "text": [
      "*****  Survived ******\n",
      "\n",
      "0    545\n",
      "1    342\n",
      "Name: Survived, dtype: int64 \n",
      "\n",
      "*****  Pclass ******\n",
      "\n",
      "3    487\n",
      "1    216\n",
      "2    184\n",
      "Name: Pclass, dtype: int64 \n",
      "\n",
      "*****  Name ******\n",
      "\n",
      "the Countess. of (Lucy Noel Martha Dyer-Edwards) Rothes    1\n",
      "Mr. Benjamin Laventall Foreman                             1\n",
      "Mr. Charles Alexander Fortune                              1\n",
      "Mr. Chang Chip                                             1\n",
      "Mr. Cerin Balkic                                           1\n",
      "                                                          ..\n",
      "Mr. Nicholas Nasser                                        1\n",
      "Mr. Nestor Cyriel Vande Walle                              1\n",
      "Mr. Nedelio Petroff                                        1\n",
      "Mr. Neal McNamee                                           1\n",
      "Capt. Edward Gifford Crosby                                1\n",
      "Name: Name, Length: 887, dtype: int64 \n",
      "\n",
      "*****  Sex ******\n",
      "\n",
      "male      573\n",
      "female    314\n",
      "Name: Sex, dtype: int64 \n",
      "\n",
      "*****  Age ******\n",
      "\n",
      "22.00    39\n",
      "28.00    37\n",
      "18.00    36\n",
      "21.00    34\n",
      "24.00    34\n",
      "19.00    33\n",
      "30.00    33\n",
      "27.00    26\n",
      "29.00    25\n",
      "23.00    25\n",
      "25.00    24\n",
      "20.00    23\n",
      "36.00    23\n",
      "26.00    21\n",
      "35.00    21\n",
      "32.00    21\n",
      "16.00    20\n",
      "31.00    19\n",
      "40.00    18\n",
      "39.00    18\n",
      "34.00    17\n",
      "33.00    17\n",
      "42.00    17\n",
      "17.00    16\n",
      "45.00    14\n",
      "37.00    12\n",
      "48.00    12\n",
      "38.00    12\n",
      "4.00     11\n",
      "2.00     11\n",
      "50.00    10\n",
      "47.00    10\n",
      "54.00     9\n",
      "41.00     9\n",
      "44.00     9\n",
      "49.00     8\n",
      "9.00      8\n",
      "14.00     7\n",
      "3.00      7\n",
      "43.00     7\n",
      "51.00     7\n",
      "1.00      7\n",
      "46.00     6\n",
      "52.00     6\n",
      "5.00      6\n",
      "8.00      6\n",
      "62.00     5\n",
      "7.00      5\n",
      "15.00     5\n",
      "60.00     5\n",
      "58.00     5\n",
      "11.00     4\n",
      "56.00     4\n",
      "64.00     3\n",
      "55.00     3\n",
      "61.00     3\n",
      "65.00     3\n",
      "6.00      3\n",
      "57.00     3\n",
      "66.00     2\n",
      "59.00     2\n",
      "28.50     2\n",
      "45.50     2\n",
      "0.83      2\n",
      "30.50     2\n",
      "70.00     2\n",
      "0.75      2\n",
      "10.00     2\n",
      "63.00     2\n",
      "13.00     2\n",
      "40.50     2\n",
      "32.50     2\n",
      "71.00     2\n",
      "12.00     2\n",
      "0.67      1\n",
      "0.92      1\n",
      "74.00     1\n",
      "34.50     1\n",
      "14.50     1\n",
      "24.50     1\n",
      "80.00     1\n",
      "20.50     1\n",
      "53.00     1\n",
      "69.00     1\n",
      "70.50     1\n",
      "36.50     1\n",
      "23.50     1\n",
      "55.50     1\n",
      "0.42      1\n",
      "Name: Age, dtype: int64 \n",
      "\n",
      "*****  Siblings/Spouses Aboard ******\n",
      "\n",
      "0    604\n",
      "1    209\n",
      "2     28\n",
      "4     18\n",
      "3     16\n",
      "8      7\n",
      "5      5\n",
      "Name: Siblings/Spouses Aboard, dtype: int64 \n",
      "\n",
      "*****  Parents/Children Aboard ******\n",
      "\n",
      "0    674\n",
      "1    118\n",
      "2     80\n",
      "5      5\n",
      "3      5\n",
      "4      4\n",
      "6      1\n",
      "Name: Parents/Children Aboard, dtype: int64 \n",
      "\n",
      "*****  Fare ******\n",
      "\n",
      "8.0500     43\n",
      "13.0000    42\n",
      "7.8958     36\n",
      "7.7500     33\n",
      "26.0000    31\n",
      "           ..\n",
      "8.4583      1\n",
      "9.8375      1\n",
      "8.3625      1\n",
      "14.1083     1\n",
      "17.4000     1\n",
      "Name: Fare, Length: 248, dtype: int64 \n",
      "\n"
     ]
    }
   ],
   "source": [
    "#Verificando a distribuição dos grupos\n",
    "column = df.columns\n",
    "for i in column:\n",
    "    print('***** ',i, '******\\n')\n",
    "    print(df[i].value_counts(),'\\n')"
   ]
  },
  {
   "cell_type": "markdown",
   "metadata": {},
   "source": [
    "# Análise de variáveis"
   ]
  },
  {
   "cell_type": "code",
   "execution_count": 13,
   "metadata": {},
   "outputs": [
    {
     "name": "stdout",
     "output_type": "stream",
     "text": [
      "****************************************************************************************************\n",
      "Category Variables\n",
      "****************************************************************************************************\n",
      "\n",
      "         Data_Type\n",
      "Survived  category\n",
      "Pclass    category\n",
      "Name      category\n",
      "Sex       category\n",
      "\n",
      "**Total:  Data_Type    4\n",
      "dtype: int64 **\n",
      "\n",
      " ****************************************************************************************************\n",
      "Numerical Variables\n",
      "****************************************************************************************************\n",
      "\n",
      "                        Data_Type\n",
      "Age                       float64\n",
      "Siblings/Spouses Aboard     int64\n",
      "Parents/Children Aboard     int64\n",
      "Fare                      float64\n",
      "\n",
      "**Total:  Data_Type    4\n",
      "dtype: int64 **\n"
     ]
    }
   ],
   "source": [
    "#Separando variáveis por tipo para facilitar a análise\n",
    "featdf = pd.DataFrame(df.dtypes,columns=['Data_Type'])\n",
    "print('****************************************************************************************************')\n",
    "print('Category Variables')\n",
    "print('****************************************************************************************************\\n')\n",
    "print(featdf[featdf['Data_Type']=='category'])\n",
    "print('\\n**Total: ',featdf[featdf['Data_Type']=='category'].count(),'**')\n",
    "print('\\n ****************************************************************************************************')\n",
    "print('Numerical Variables')\n",
    "print('****************************************************************************************************\\n')\n",
    "print(featdf[featdf['Data_Type']!='category'])\n",
    "print('\\n**Total: ',featdf[featdf['Data_Type']!='category'].count(),'**')"
   ]
  },
  {
   "cell_type": "code",
   "execution_count": 14,
   "metadata": {},
   "outputs": [],
   "source": [
    "#Gerando listas com variáveis numericas e categóricas\n",
    "nunfeat = list(featdf[featdf['Data_Type']!='category'].index)\n",
    "catfeat = list(featdf[featdf['Data_Type']=='category'].index)"
   ]
  },
  {
   "cell_type": "markdown",
   "metadata": {},
   "source": [
    "## Variáveis Numéricas"
   ]
  },
  {
   "cell_type": "code",
   "execution_count": 15,
   "metadata": {},
   "outputs": [
    {
     "name": "stderr",
     "output_type": "stream",
     "text": [
      "/Library/Python/3.7/site-packages/pandas/plotting/_matplotlib/tools.py:307: MatplotlibDeprecationWarning: \n",
      "The rowNum attribute was deprecated in Matplotlib 3.2 and will be removed two minor releases later. Use ax.get_subplotspec().rowspan.start instead.\n",
      "  layout[ax.rowNum, ax.colNum] = ax.get_visible()\n",
      "/Library/Python/3.7/site-packages/pandas/plotting/_matplotlib/tools.py:307: MatplotlibDeprecationWarning: \n",
      "The colNum attribute was deprecated in Matplotlib 3.2 and will be removed two minor releases later. Use ax.get_subplotspec().colspan.start instead.\n",
      "  layout[ax.rowNum, ax.colNum] = ax.get_visible()\n",
      "/Library/Python/3.7/site-packages/pandas/plotting/_matplotlib/tools.py:313: MatplotlibDeprecationWarning: \n",
      "The rowNum attribute was deprecated in Matplotlib 3.2 and will be removed two minor releases later. Use ax.get_subplotspec().rowspan.start instead.\n",
      "  if not layout[ax.rowNum + 1, ax.colNum]:\n",
      "/Library/Python/3.7/site-packages/pandas/plotting/_matplotlib/tools.py:313: MatplotlibDeprecationWarning: \n",
      "The colNum attribute was deprecated in Matplotlib 3.2 and will be removed two minor releases later. Use ax.get_subplotspec().colspan.start instead.\n",
      "  if not layout[ax.rowNum + 1, ax.colNum]:\n"
     ]
    },
    {
     "data": {
      "image/png": "[encoded data removed]",
      "text/plain": [
       "<Figure size 720x720 with 4 Axes>"
      ]
     },
     "metadata": {},
     "output_type": "display_data"
    }
   ],
   "source": [
    "#Histograma\n",
    "df.hist(figsize=(10,10))\n",
    "plt.show()"
   ]
  },
  {
   "cell_type": "markdown",
   "metadata": {},
   "source": [
    "* Todas a variáveis são assimétricas\n"
   ]
  },
  {
   "cell_type": "code",
   "execution_count": 16,
   "metadata": {},
   "outputs": [
    {
     "data": {
      "text/plain": [
       "<matplotlib.axes._subplots.AxesSubplot at 0x12e11d9e8>"
      ]
     },
     "execution_count": 16,
     "metadata": {},
     "output_type": "execute_result"
    },
    {
     "data": {
      "image/png": "[encoded data removed]",
      "text/plain": [
       "<Figure size 432x288 with 1 Axes>"
      ]
     },
     "metadata": {},
     "output_type": "display_data"
    }
   ],
   "source": [
    "#Gráficos de distribuição\n",
    "sns.distplot(df['Age'])"
   ]
  },
  {
   "cell_type": "code",
   "execution_count": 17,
   "metadata": {},
   "outputs": [
    {
     "data": {
      "text/plain": [
       "<matplotlib.axes._subplots.AxesSubplot at 0x12e0aa7b8>"
      ]
     },
     "execution_count": 17,
     "metadata": {},
     "output_type": "execute_result"
    },
    {
     "data": {
      "image/png": "[encoded data removed]",
      "text/plain": [
       "<Figure size 432x288 with 1 Axes>"
      ]
     },
     "metadata": {},
     "output_type": "display_data"
    }
   ],
   "source": [
    "sns.distplot(df['Siblings/Spouses Aboard'])"
   ]
  },
  {
   "cell_type": "code",
   "execution_count": 18,
   "metadata": {},
   "outputs": [
    {
     "data": {
      "text/plain": [
       "<matplotlib.axes._subplots.AxesSubplot at 0x12e11d9b0>"
      ]
     },
     "execution_count": 18,
     "metadata": {},
     "output_type": "execute_result"
    },
    {
     "data": {
      "image/png": "[encoded data removed]",
      "text/plain": [
       "<Figure size 432x288 with 1 Axes>"
      ]
     },
     "metadata": {},
     "output_type": "display_data"
    }
   ],
   "source": [
    "sns.distplot(df['Parents/Children Aboard'])"
   ]
  },
  {
   "cell_type": "code",
   "execution_count": 19,
   "metadata": {},
   "outputs": [
    {
     "data": {
      "text/plain": [
       "<matplotlib.axes._subplots.AxesSubplot at 0x1302be0f0>"
      ]
     },
     "execution_count": 19,
     "metadata": {},
     "output_type": "execute_result"
    },
    {
     "data": {
      "image/png": "[encoded data removed]",
      "text/plain": [
       "<Figure size 432x288 with 1 Axes>"
      ]
     },
     "metadata": {},
     "output_type": "display_data"
    }
   ],
   "source": [
    "sns.distplot(df['Fare'])"
   ]
  },
  {
   "cell_type": "code",
   "execution_count": 20,
   "metadata": {},
   "outputs": [
    {
     "data": {
      "image/png": "[encoded data removed]",
      "text/plain": [
       "<Figure size 432x288 with 1 Axes>"
      ]
     },
     "metadata": {},
     "output_type": "display_data"
    },
    {
     "data": {
      "image/png": "[encoded data removed]",
      "text/plain": [
       "<Figure size 432x288 with 1 Axes>"
      ]
     },
     "metadata": {},
     "output_type": "display_data"
    },
    {
     "data": {
      "image/png": "[encoded data removed]",
      "text/plain": [
       "<Figure size 432x288 with 1 Axes>"
      ]
     },
     "metadata": {},
     "output_type": "display_data"
    },
    {
     "data": {
      "image/png": "[encoded data removed]",
      "text/plain": [
       "<Figure size 432x288 with 1 Axes>"
      ]
     },
     "metadata": {},
     "output_type": "display_data"
    }
   ],
   "source": [
    "#Grafico de disperção(neste caso como o taget é categórica não é uma boa opção)\n",
    "for graf in nunfeat:\n",
    "    sns.scatterplot(x=graf, y='Survived', data=df)\n",
    "    plt.show()"
   ]
  },
  {
   "cell_type": "code",
   "execution_count": 21,
   "metadata": {},
   "outputs": [
    {
     "data": {
      "image/png": "[encoded data removed]",
      "text/plain": [
       "<Figure size 432x288 with 1 Axes>"
      ]
     },
     "metadata": {},
     "output_type": "display_data"
    },
    {
     "data": {
      "image/png": "[encoded data removed]",
      "text/plain": [
       "<Figure size 432x288 with 1 Axes>"
      ]
     },
     "metadata": {},
     "output_type": "display_data"
    },
    {
     "data": {
      "image/png": "[encoded data removed]",
      "text/plain": [
       "<Figure size 432x288 with 1 Axes>"
      ]
     },
     "metadata": {},
     "output_type": "display_data"
    },
    {
     "data": {
      "image/png": "[encoded data removed]",
      "text/plain": [
       "<Figure size 432x288 with 1 Axes>"
      ]
     },
     "metadata": {},
     "output_type": "display_data"
    }
   ],
   "source": [
    "#Grafico boxplot\n",
    "for graf2 in nunfeat:\n",
    "    sns.boxplot(df[graf2])\n",
    "    plt.show()"
   ]
  },
  {
   "cell_type": "markdown",
   "metadata": {},
   "source": [
    "* Todas as Variáveis tem Ouliers"
   ]
  },
  {
   "cell_type": "markdown",
   "metadata": {},
   "source": [
    "## Variáveis categoricas"
   ]
  },
  {
   "cell_type": "code",
   "execution_count": 22,
   "metadata": {},
   "outputs": [
    {
     "data": {
      "image/png": "[encoded data removed]",
      "text/plain": [
       "<Figure size 360x360 with 1 Axes>"
      ]
     },
     "metadata": {},
     "output_type": "display_data"
    },
    {
     "data": {
      "image/png": "[encoded data removed]",
      "text/plain": [
       "<Figure size 360x360 with 1 Axes>"
      ]
     },
     "metadata": {},
     "output_type": "display_data"
    },
    {
     "data": {
      "image/png": "[encoded data removed]",
      "text/plain": [
       "<Figure size 360x360 with 1 Axes>"
      ]
     },
     "metadata": {},
     "output_type": "display_data"
    }
   ],
   "source": [
    "#Gráfico de pizza para verificar a distribuição da variável\n",
    "dfpie = df.copy()\n",
    "#Criando coluna com numeros 1 para fazer as somas\n",
    "dfpie['Count']= 1\n",
    "for pie in catfeat:\n",
    "    if pie == 'Name':\n",
    "        pass\n",
    "    else:\n",
    "        dfpie.groupby([pie]).sum().plot(kind='pie', y='Count', shadow = True,startangle=90,\\\n",
    "                                             figsize=(5,5), autopct='%1.1f%%')\n",
    "        plt.title(pie, fontsize=40)"
   ]
  },
  {
   "cell_type": "code",
   "execution_count": 56,
   "metadata": {},
   "outputs": [
    {
     "data": {
      "image/png": "[encoded data removed]",
      "text/plain": [
       "<Figure size 432x288 with 1 Axes>"
      ]
     },
     "metadata": {},
     "output_type": "display_data"
    },
    {
     "data": {
      "image/png": "[encoded data removed]",
      "text/plain": [
       "<Figure size 432x288 with 1 Axes>"
      ]
     },
     "metadata": {},
     "output_type": "display_data"
    }
   ],
   "source": [
    "#Gráfico de barras emplilhado para verificar distribuição e correlação com o target\n",
    "for stk in catfeat:\n",
    "    if stk == 'Name' or stk == 'Survived':\n",
    "        pass\n",
    "    else:\n",
    "        #Criando uma tabela cruzada com as duas variáveis e usando apply para tranformar em % do total\n",
    "        dfc= pd.crosstab(df[stk],df['Survived']).apply(lambda r: r/r.sum(), axis = 1)\n",
    "        #Criando o gráfico bar stacked\n",
    "        ax1 = dfc.plot(kind = \"bar\", stacked = True, title = stk)\n",
    "        lines, labels = ax1.get_legend_handles_labels()\n",
    "        ax1.legend(lines,[\"Morreu\", \"Sobreviveu\"], loc = 'best')"
   ]
  },
  {
   "cell_type": "code",
   "execution_count": 23,
   "metadata": {},
   "outputs": [
    {
     "data": {
      "image/png": "[encoded data removed]",
      "text/plain": [
       "<Figure size 432x288 with 1 Axes>"
      ]
     },
     "metadata": {},
     "output_type": "display_data"
    },
    {
     "data": {
      "image/png": "[encoded data removed]",
      "text/plain": [
       "<Figure size 432x288 with 1 Axes>"
      ]
     },
     "metadata": {},
     "output_type": "display_data"
    }
   ],
   "source": [
    "#Verificando boxplot, não muito adequado quando a variável target é categórica\n",
    "for cgraf in catfeat:\n",
    "    if cgraf == 'Name' or cgraf == 'Survived' :\n",
    "        pass\n",
    "    else:\n",
    "        sns.boxplot(df[cgraf],df['Survived'].astype(int) )\n",
    "        plt.show()"
   ]
  },
  {
   "cell_type": "code",
   "execution_count": 24,
   "metadata": {},
   "outputs": [
    {
     "name": "stdout",
     "output_type": "stream",
     "text": [
      "************Chi_Quadrado*****************\n",
      "\n",
      "Pclass\n",
      "1.0496962042983216e-22\n",
      "Sex\n",
      "3.847574039733745e-58\n"
     ]
    },
    {
     "data": {
      "text/html": [
       "<div>\n",
       "<style scoped>\n",
       "    .dataframe tbody tr th:only-of-type {\n",
       "        vertical-align: middle;\n",
       "    }\n",
       "\n",
       "    .dataframe tbody tr th {\n",
       "        vertical-align: top;\n",
       "    }\n",
       "\n",
       "    .dataframe thead th {\n",
       "        text-align: right;\n",
       "    }\n",
       "</style>\n",
       "<table border=\"1\" class=\"dataframe\">\n",
       "  <thead>\n",
       "    <tr style=\"text-align: right;\">\n",
       "      <th></th>\n",
       "      <th>P-Value</th>\n",
       "    </tr>\n",
       "  </thead>\n",
       "  <tbody>\n",
       "    <tr>\n",
       "      <th>Sex</th>\n",
       "      <td>3.847574e-58</td>\n",
       "    </tr>\n",
       "    <tr>\n",
       "      <th>Pclass</th>\n",
       "      <td>1.049696e-22</td>\n",
       "    </tr>\n",
       "  </tbody>\n",
       "</table>\n",
       "</div>"
      ],
      "text/plain": [
       "             P-Value\n",
       "Sex     3.847574e-58\n",
       "Pclass  1.049696e-22"
      ]
     },
     "execution_count": 24,
     "metadata": {},
     "output_type": "execute_result"
    }
   ],
   "source": [
    "#Verificando a correlação pelo teste do Chi_Quadrado\n",
    "from scipy.stats import chi2_contingency\n",
    "\n",
    "\n",
    "def chisq_func(df, c1, c2):\n",
    "    groupsizes = df.groupby([c1, c2]).size()\n",
    "    ctsum = groupsizes.unstack(c1)\n",
    "    return(chi2_contingency(ctsum.fillna(0)))\n",
    "\n",
    "print('************Chi_Quadrado*****************\\n')\n",
    "pvalues = []\n",
    "for feat in catfeat:\n",
    "    if feat == 'Name' or feat == 'Survived' :\n",
    "        pass\n",
    "    else:\n",
    "        print(feat)\n",
    "        chires = chisq_func(df,feat,'Survived')\n",
    "        print(chires[1])\n",
    "        pvalues.append(chires[1])\n",
    "chidf = pd.DataFrame(pvalues,index=['Pclass','Sex'],columns=['P-Value'])\n",
    "chidf.sort_values(by='P-Value')"
   ]
  },
  {
   "cell_type": "markdown",
   "metadata": {},
   "source": [
    "* Os P-Valor indicam que a hipotese H1 está confirmada ou seja Pclass e Sex tem correlação com Survived"
   ]
  },
  {
   "cell_type": "markdown",
   "metadata": {},
   "source": [
    "# Engenharia de dados"
   ]
  },
  {
   "cell_type": "markdown",
   "metadata": {},
   "source": [
    "## Verificando variáveis com valor 0\n",
    "* Idade com valores 0\n",
    "* Fare valores 0"
   ]
  },
  {
   "cell_type": "code",
   "execution_count": 25,
   "metadata": {},
   "outputs": [
    {
     "data": {
      "text/html": [
       "<div>\n",
       "<style scoped>\n",
       "    .dataframe tbody tr th:only-of-type {\n",
       "        vertical-align: middle;\n",
       "    }\n",
       "\n",
       "    .dataframe tbody tr th {\n",
       "        vertical-align: top;\n",
       "    }\n",
       "\n",
       "    .dataframe thead th {\n",
       "        text-align: right;\n",
       "    }\n",
       "</style>\n",
       "<table border=\"1\" class=\"dataframe\">\n",
       "  <thead>\n",
       "    <tr style=\"text-align: right;\">\n",
       "      <th></th>\n",
       "      <th>Survived</th>\n",
       "      <th>Pclass</th>\n",
       "      <th>Name</th>\n",
       "      <th>Sex</th>\n",
       "      <th>Age</th>\n",
       "      <th>Siblings/Spouses Aboard</th>\n",
       "      <th>Parents/Children Aboard</th>\n",
       "      <th>Fare</th>\n",
       "    </tr>\n",
       "  </thead>\n",
       "  <tbody>\n",
       "  </tbody>\n",
       "</table>\n",
       "</div>"
      ],
      "text/plain": [
       "Empty DataFrame\n",
       "Columns: [Survived, Pclass, Name, Sex, Age, Siblings/Spouses Aboard, Parents/Children Aboard, Fare]\n",
       "Index: []"
      ]
     },
     "execution_count": 25,
     "metadata": {},
     "output_type": "execute_result"
    }
   ],
   "source": [
    "#Verificando e corrigindo variável idade\n",
    "df['Age'] = df['Age'].replace(df[df['Age']<1]['Age'],df['Age'].mean())\n",
    "df[df['Age']<1]"
   ]
  },
  {
   "cell_type": "code",
   "execution_count": 26,
   "metadata": {},
   "outputs": [
    {
     "data": {
      "text/html": [
       "<div>\n",
       "<style scoped>\n",
       "    .dataframe tbody tr th:only-of-type {\n",
       "        vertical-align: middle;\n",
       "    }\n",
       "\n",
       "    .dataframe tbody tr th {\n",
       "        vertical-align: top;\n",
       "    }\n",
       "\n",
       "    .dataframe thead th {\n",
       "        text-align: right;\n",
       "    }\n",
       "</style>\n",
       "<table border=\"1\" class=\"dataframe\">\n",
       "  <thead>\n",
       "    <tr style=\"text-align: right;\">\n",
       "      <th></th>\n",
       "      <th>Survived</th>\n",
       "      <th>Pclass</th>\n",
       "      <th>Name</th>\n",
       "      <th>Sex</th>\n",
       "      <th>Age</th>\n",
       "      <th>Siblings/Spouses Aboard</th>\n",
       "      <th>Parents/Children Aboard</th>\n",
       "      <th>Fare</th>\n",
       "    </tr>\n",
       "  </thead>\n",
       "  <tbody>\n",
       "  </tbody>\n",
       "</table>\n",
       "</div>"
      ],
      "text/plain": [
       "Empty DataFrame\n",
       "Columns: [Survived, Pclass, Name, Sex, Age, Siblings/Spouses Aboard, Parents/Children Aboard, Fare]\n",
       "Index: []"
      ]
     },
     "execution_count": 26,
     "metadata": {},
     "output_type": "execute_result"
    }
   ],
   "source": [
    "#Verificando e corrigindo 0 na tarifa de acordo com a classe\n",
    "#Criando medias por classe\n",
    "medias=df.groupby('Pclass').mean()['Fare']\n",
    "classe1 = medias[0].round(2)\n",
    "classe2 = medias[2].round(2)\n",
    "classe3 = medias[3].round(2)\n",
    "df['Fare'] = df['Fare'].replace(df[(df['Pclass']== 3)&(df['Fare'] == 0)]['Fare'],classe3)\n",
    "df['Fare'] = df['Fare'].replace(df[(df['Pclass']== 2)&(df['Fare'] == 0)]['Fare'],classe2)\n",
    "df['Fare'] = df['Fare'].replace(df[(df['Pclass']== 1)&(df['Fare'] == 0)]['Fare'],classe1)\n",
    "\n",
    "df[df['Fare']<=0]"
   ]
  },
  {
   "cell_type": "markdown",
   "metadata": {},
   "source": [
    "## Verificando assimetrias"
   ]
  },
  {
   "cell_type": "code",
   "execution_count": 27,
   "metadata": {},
   "outputs": [
    {
     "data": {
      "text/plain": [
       "Fare                       4.748929\n",
       "Siblings/Spouses Aboard    3.686760\n",
       "Parents/Children Aboard    2.741198\n",
       "Age                        0.491291\n",
       "dtype: float64"
      ]
     },
     "execution_count": 27,
     "metadata": {},
     "output_type": "execute_result"
    }
   ],
   "source": [
    "#Classificando variáveis numericas de acordo com sua assimetria\n",
    "skewed_feats = df[nunfeat].apply(lambda x: x.skew()).sort_values(ascending=False)\n",
    "skewed_feats"
   ]
  },
  {
   "cell_type": "code",
   "execution_count": 28,
   "metadata": {},
   "outputs": [
    {
     "name": "stdout",
     "output_type": "stream",
     "text": [
      "Fare  LAMBDA:  -0.496538445965824 \n",
      "\n",
      "Siblings/Spouses Aboard  LAMBDA:  -0.52624850372354 \n",
      "\n",
      "Parents/Children Aboard  LAMBDA:  -0.2396120883251585 \n",
      "\n"
     ]
    }
   ],
   "source": [
    "#Padronizando o dado com BOXCOX\n",
    "from scipy.special import boxcox1p\n",
    "from scipy.stats import boxcox_normmax\n",
    "\n",
    "high_skewt = skewed_feats[skewed_feats > 0.5]\n",
    "skew_index = high_skewt.index\n",
    "\n",
    "# Normalise skewed features\n",
    "for i in skew_index:\n",
    "    boxcox_lambda = boxcox_normmax(df[i] + 1)\n",
    "    print(i, ' LAMBDA: ',boxcox_lambda, '\\n' )\n",
    "    df[i] = boxcox1p(df[i], boxcox_lambda)"
   ]
  },
  {
   "cell_type": "code",
   "execution_count": 29,
   "metadata": {},
   "outputs": [
    {
     "name": "stderr",
     "output_type": "stream",
     "text": [
      "/Library/Python/3.7/site-packages/pandas/plotting/_matplotlib/tools.py:307: MatplotlibDeprecationWarning: \n",
      "The rowNum attribute was deprecated in Matplotlib 3.2 and will be removed two minor releases later. Use ax.get_subplotspec().rowspan.start instead.\n",
      "  layout[ax.rowNum, ax.colNum] = ax.get_visible()\n",
      "/Library/Python/3.7/site-packages/pandas/plotting/_matplotlib/tools.py:307: MatplotlibDeprecationWarning: \n",
      "The colNum attribute was deprecated in Matplotlib 3.2 and will be removed two minor releases later. Use ax.get_subplotspec().colspan.start instead.\n",
      "  layout[ax.rowNum, ax.colNum] = ax.get_visible()\n",
      "/Library/Python/3.7/site-packages/pandas/plotting/_matplotlib/tools.py:313: MatplotlibDeprecationWarning: \n",
      "The rowNum attribute was deprecated in Matplotlib 3.2 and will be removed two minor releases later. Use ax.get_subplotspec().rowspan.start instead.\n",
      "  if not layout[ax.rowNum + 1, ax.colNum]:\n",
      "/Library/Python/3.7/site-packages/pandas/plotting/_matplotlib/tools.py:313: MatplotlibDeprecationWarning: \n",
      "The colNum attribute was deprecated in Matplotlib 3.2 and will be removed two minor releases later. Use ax.get_subplotspec().colspan.start instead.\n",
      "  if not layout[ax.rowNum + 1, ax.colNum]:\n"
     ]
    },
    {
     "data": {
      "image/png": "[encoded data removed]",
      "text/plain": [
       "<Figure size 720x720 with 4 Axes>"
      ]
     },
     "metadata": {},
     "output_type": "display_data"
    }
   ],
   "source": [
    "#Histograma, para verificar o resultado da normalização\n",
    "df.hist(figsize=(10,10))\n",
    "plt.show()"
   ]
  },
  {
   "cell_type": "code",
   "execution_count": 30,
   "metadata": {},
   "outputs": [
    {
     "data": {
      "image/png": "[encoded data removed]",
      "text/plain": [
       "<Figure size 2160x1440 with 2 Axes>"
      ]
     },
     "metadata": {},
     "output_type": "display_data"
    }
   ],
   "source": [
    "#Ultima olhada nas correlações das variáveis numéricas\n",
    "import matplotlib.style as style\n",
    "style.use('ggplot')\n",
    "sns.set_style('whitegrid')\n",
    "plt.subplots(figsize = (30,20))\n",
    " \n",
    "mask = np.zeros_like(df.corr(), dtype=np.bool)\n",
    "mask[np.triu_indices_from(mask)] = True\n",
    "\n",
    "sns.heatmap(df.corr(), cmap=sns.diverging_palette(20, 220, n=200), mask = mask, annot=True, center = 0, );\n",
    "plt.title(\"Heatmap of all the Features\", fontsize = 30);"
   ]
  },
  {
   "cell_type": "markdown",
   "metadata": {},
   "source": [
    "## Convertendo dados categóricos em dummie"
   ]
  },
  {
   "cell_type": "code",
   "execution_count": 31,
   "metadata": {},
   "outputs": [
    {
     "data": {
      "text/html": [
       "<div>\n",
       "<style scoped>\n",
       "    .dataframe tbody tr th:only-of-type {\n",
       "        vertical-align: middle;\n",
       "    }\n",
       "\n",
       "    .dataframe tbody tr th {\n",
       "        vertical-align: top;\n",
       "    }\n",
       "\n",
       "    .dataframe thead th {\n",
       "        text-align: right;\n",
       "    }\n",
       "</style>\n",
       "<table border=\"1\" class=\"dataframe\">\n",
       "  <thead>\n",
       "    <tr style=\"text-align: right;\">\n",
       "      <th></th>\n",
       "      <th>Survived</th>\n",
       "      <th>Pclass</th>\n",
       "      <th>Name</th>\n",
       "      <th>Sex</th>\n",
       "      <th>Age</th>\n",
       "      <th>Siblings/Spouses Aboard</th>\n",
       "      <th>Parents/Children Aboard</th>\n",
       "      <th>Fare</th>\n",
       "    </tr>\n",
       "  </thead>\n",
       "  <tbody>\n",
       "    <tr>\n",
       "      <th>0</th>\n",
       "      <td>0</td>\n",
       "      <td>3</td>\n",
       "      <td>Mr. Owen Harris Braund</td>\n",
       "      <td>male</td>\n",
       "      <td>22.0</td>\n",
       "      <td>0.580794</td>\n",
       "      <td>0.000000</td>\n",
       "      <td>1.307637</td>\n",
       "    </tr>\n",
       "    <tr>\n",
       "      <th>1</th>\n",
       "      <td>1</td>\n",
       "      <td>1</td>\n",
       "      <td>Mrs. John Bradley (Florence Briggs Thayer) Cum...</td>\n",
       "      <td>female</td>\n",
       "      <td>38.0</td>\n",
       "      <td>0.580794</td>\n",
       "      <td>0.000000</td>\n",
       "      <td>1.773527</td>\n",
       "    </tr>\n",
       "    <tr>\n",
       "      <th>2</th>\n",
       "      <td>1</td>\n",
       "      <td>3</td>\n",
       "      <td>Miss. Laina Heikkinen</td>\n",
       "      <td>female</td>\n",
       "      <td>26.0</td>\n",
       "      <td>0.000000</td>\n",
       "      <td>0.000000</td>\n",
       "      <td>1.334687</td>\n",
       "    </tr>\n",
       "    <tr>\n",
       "      <th>3</th>\n",
       "      <td>1</td>\n",
       "      <td>1</td>\n",
       "      <td>Mrs. Jacques Heath (Lily May Peel) Futrelle</td>\n",
       "      <td>female</td>\n",
       "      <td>35.0</td>\n",
       "      <td>0.580794</td>\n",
       "      <td>0.000000</td>\n",
       "      <td>1.736324</td>\n",
       "    </tr>\n",
       "    <tr>\n",
       "      <th>4</th>\n",
       "      <td>0</td>\n",
       "      <td>3</td>\n",
       "      <td>Mr. William Henry Allen</td>\n",
       "      <td>male</td>\n",
       "      <td>35.0</td>\n",
       "      <td>0.000000</td>\n",
       "      <td>0.000000</td>\n",
       "      <td>1.339361</td>\n",
       "    </tr>\n",
       "    <tr>\n",
       "      <th>...</th>\n",
       "      <td>...</td>\n",
       "      <td>...</td>\n",
       "      <td>...</td>\n",
       "      <td>...</td>\n",
       "      <td>...</td>\n",
       "      <td>...</td>\n",
       "      <td>...</td>\n",
       "      <td>...</td>\n",
       "    </tr>\n",
       "    <tr>\n",
       "      <th>882</th>\n",
       "      <td>0</td>\n",
       "      <td>2</td>\n",
       "      <td>Rev. Juozas Montvila</td>\n",
       "      <td>male</td>\n",
       "      <td>27.0</td>\n",
       "      <td>0.000000</td>\n",
       "      <td>0.000000</td>\n",
       "      <td>1.470754</td>\n",
       "    </tr>\n",
       "    <tr>\n",
       "      <th>883</th>\n",
       "      <td>1</td>\n",
       "      <td>1</td>\n",
       "      <td>Miss. Margaret Edith Graham</td>\n",
       "      <td>female</td>\n",
       "      <td>19.0</td>\n",
       "      <td>0.000000</td>\n",
       "      <td>0.000000</td>\n",
       "      <td>1.647903</td>\n",
       "    </tr>\n",
       "    <tr>\n",
       "      <th>884</th>\n",
       "      <td>0</td>\n",
       "      <td>3</td>\n",
       "      <td>Miss. Catherine Helen Johnston</td>\n",
       "      <td>female</td>\n",
       "      <td>7.0</td>\n",
       "      <td>0.580794</td>\n",
       "      <td>0.965908</td>\n",
       "      <td>1.602117</td>\n",
       "    </tr>\n",
       "    <tr>\n",
       "      <th>885</th>\n",
       "      <td>1</td>\n",
       "      <td>1</td>\n",
       "      <td>Mr. Karl Howell Behr</td>\n",
       "      <td>male</td>\n",
       "      <td>26.0</td>\n",
       "      <td>0.000000</td>\n",
       "      <td>0.000000</td>\n",
       "      <td>1.647903</td>\n",
       "    </tr>\n",
       "    <tr>\n",
       "      <th>886</th>\n",
       "      <td>0</td>\n",
       "      <td>3</td>\n",
       "      <td>Mr. Patrick Dooley</td>\n",
       "      <td>male</td>\n",
       "      <td>32.0</td>\n",
       "      <td>0.000000</td>\n",
       "      <td>0.000000</td>\n",
       "      <td>1.327975</td>\n",
       "    </tr>\n",
       "  </tbody>\n",
       "</table>\n",
       "<p>887 rows × 8 columns</p>\n",
       "</div>"
      ],
      "text/plain": [
       "    Survived Pclass                                               Name  \\\n",
       "0          0      3                             Mr. Owen Harris Braund   \n",
       "1          1      1  Mrs. John Bradley (Florence Briggs Thayer) Cum...   \n",
       "2          1      3                              Miss. Laina Heikkinen   \n",
       "3          1      1        Mrs. Jacques Heath (Lily May Peel) Futrelle   \n",
       "4          0      3                            Mr. William Henry Allen   \n",
       "..       ...    ...                                                ...   \n",
       "882        0      2                               Rev. Juozas Montvila   \n",
       "883        1      1                        Miss. Margaret Edith Graham   \n",
       "884        0      3                     Miss. Catherine Helen Johnston   \n",
       "885        1      1                               Mr. Karl Howell Behr   \n",
       "886        0      3                                 Mr. Patrick Dooley   \n",
       "\n",
       "        Sex   Age  Siblings/Spouses Aboard  Parents/Children Aboard      Fare  \n",
       "0      male  22.0                 0.580794                 0.000000  1.307637  \n",
       "1    female  38.0                 0.580794                 0.000000  1.773527  \n",
       "2    female  26.0                 0.000000                 0.000000  1.334687  \n",
       "3    female  35.0                 0.580794                 0.000000  1.736324  \n",
       "4      male  35.0                 0.000000                 0.000000  1.339361  \n",
       "..      ...   ...                      ...                      ...       ...  \n",
       "882    male  27.0                 0.000000                 0.000000  1.470754  \n",
       "883  female  19.0                 0.000000                 0.000000  1.647903  \n",
       "884  female   7.0                 0.580794                 0.965908  1.602117  \n",
       "885    male  26.0                 0.000000                 0.000000  1.647903  \n",
       "886    male  32.0                 0.000000                 0.000000  1.327975  \n",
       "\n",
       "[887 rows x 8 columns]"
      ]
     },
     "execution_count": 31,
     "metadata": {},
     "output_type": "execute_result"
    }
   ],
   "source": [
    "df"
   ]
  },
  {
   "cell_type": "code",
   "execution_count": 32,
   "metadata": {},
   "outputs": [
    {
     "data": {
      "text/html": [
       "<div>\n",
       "<style scoped>\n",
       "    .dataframe tbody tr th:only-of-type {\n",
       "        vertical-align: middle;\n",
       "    }\n",
       "\n",
       "    .dataframe tbody tr th {\n",
       "        vertical-align: top;\n",
       "    }\n",
       "\n",
       "    .dataframe thead th {\n",
       "        text-align: right;\n",
       "    }\n",
       "</style>\n",
       "<table border=\"1\" class=\"dataframe\">\n",
       "  <thead>\n",
       "    <tr style=\"text-align: right;\">\n",
       "      <th></th>\n",
       "      <th>Age</th>\n",
       "      <th>Siblings/Spouses Aboard</th>\n",
       "      <th>Parents/Children Aboard</th>\n",
       "      <th>Fare</th>\n",
       "      <th>Pclass_1</th>\n",
       "      <th>Pclass_2</th>\n",
       "      <th>Pclass_3</th>\n",
       "      <th>Sex_female</th>\n",
       "      <th>Sex_male</th>\n",
       "    </tr>\n",
       "  </thead>\n",
       "  <tbody>\n",
       "    <tr>\n",
       "      <th>0</th>\n",
       "      <td>22.0</td>\n",
       "      <td>0.580794</td>\n",
       "      <td>0.000000</td>\n",
       "      <td>1.307637</td>\n",
       "      <td>0</td>\n",
       "      <td>0</td>\n",
       "      <td>1</td>\n",
       "      <td>0</td>\n",
       "      <td>1</td>\n",
       "    </tr>\n",
       "    <tr>\n",
       "      <th>1</th>\n",
       "      <td>38.0</td>\n",
       "      <td>0.580794</td>\n",
       "      <td>0.000000</td>\n",
       "      <td>1.773527</td>\n",
       "      <td>1</td>\n",
       "      <td>0</td>\n",
       "      <td>0</td>\n",
       "      <td>1</td>\n",
       "      <td>0</td>\n",
       "    </tr>\n",
       "    <tr>\n",
       "      <th>2</th>\n",
       "      <td>26.0</td>\n",
       "      <td>0.000000</td>\n",
       "      <td>0.000000</td>\n",
       "      <td>1.334687</td>\n",
       "      <td>0</td>\n",
       "      <td>0</td>\n",
       "      <td>1</td>\n",
       "      <td>1</td>\n",
       "      <td>0</td>\n",
       "    </tr>\n",
       "    <tr>\n",
       "      <th>3</th>\n",
       "      <td>35.0</td>\n",
       "      <td>0.580794</td>\n",
       "      <td>0.000000</td>\n",
       "      <td>1.736324</td>\n",
       "      <td>1</td>\n",
       "      <td>0</td>\n",
       "      <td>0</td>\n",
       "      <td>1</td>\n",
       "      <td>0</td>\n",
       "    </tr>\n",
       "    <tr>\n",
       "      <th>4</th>\n",
       "      <td>35.0</td>\n",
       "      <td>0.000000</td>\n",
       "      <td>0.000000</td>\n",
       "      <td>1.339361</td>\n",
       "      <td>0</td>\n",
       "      <td>0</td>\n",
       "      <td>1</td>\n",
       "      <td>0</td>\n",
       "      <td>1</td>\n",
       "    </tr>\n",
       "    <tr>\n",
       "      <th>...</th>\n",
       "      <td>...</td>\n",
       "      <td>...</td>\n",
       "      <td>...</td>\n",
       "      <td>...</td>\n",
       "      <td>...</td>\n",
       "      <td>...</td>\n",
       "      <td>...</td>\n",
       "      <td>...</td>\n",
       "      <td>...</td>\n",
       "    </tr>\n",
       "    <tr>\n",
       "      <th>882</th>\n",
       "      <td>27.0</td>\n",
       "      <td>0.000000</td>\n",
       "      <td>0.000000</td>\n",
       "      <td>1.470754</td>\n",
       "      <td>0</td>\n",
       "      <td>1</td>\n",
       "      <td>0</td>\n",
       "      <td>0</td>\n",
       "      <td>1</td>\n",
       "    </tr>\n",
       "    <tr>\n",
       "      <th>883</th>\n",
       "      <td>19.0</td>\n",
       "      <td>0.000000</td>\n",
       "      <td>0.000000</td>\n",
       "      <td>1.647903</td>\n",
       "      <td>1</td>\n",
       "      <td>0</td>\n",
       "      <td>0</td>\n",
       "      <td>1</td>\n",
       "      <td>0</td>\n",
       "    </tr>\n",
       "    <tr>\n",
       "      <th>884</th>\n",
       "      <td>7.0</td>\n",
       "      <td>0.580794</td>\n",
       "      <td>0.965908</td>\n",
       "      <td>1.602117</td>\n",
       "      <td>0</td>\n",
       "      <td>0</td>\n",
       "      <td>1</td>\n",
       "      <td>1</td>\n",
       "      <td>0</td>\n",
       "    </tr>\n",
       "    <tr>\n",
       "      <th>885</th>\n",
       "      <td>26.0</td>\n",
       "      <td>0.000000</td>\n",
       "      <td>0.000000</td>\n",
       "      <td>1.647903</td>\n",
       "      <td>1</td>\n",
       "      <td>0</td>\n",
       "      <td>0</td>\n",
       "      <td>0</td>\n",
       "      <td>1</td>\n",
       "    </tr>\n",
       "    <tr>\n",
       "      <th>886</th>\n",
       "      <td>32.0</td>\n",
       "      <td>0.000000</td>\n",
       "      <td>0.000000</td>\n",
       "      <td>1.327975</td>\n",
       "      <td>0</td>\n",
       "      <td>0</td>\n",
       "      <td>1</td>\n",
       "      <td>0</td>\n",
       "      <td>1</td>\n",
       "    </tr>\n",
       "  </tbody>\n",
       "</table>\n",
       "<p>887 rows × 9 columns</p>\n",
       "</div>"
      ],
      "text/plain": [
       "      Age  Siblings/Spouses Aboard  Parents/Children Aboard      Fare  \\\n",
       "0    22.0                 0.580794                 0.000000  1.307637   \n",
       "1    38.0                 0.580794                 0.000000  1.773527   \n",
       "2    26.0                 0.000000                 0.000000  1.334687   \n",
       "3    35.0                 0.580794                 0.000000  1.736324   \n",
       "4    35.0                 0.000000                 0.000000  1.339361   \n",
       "..    ...                      ...                      ...       ...   \n",
       "882  27.0                 0.000000                 0.000000  1.470754   \n",
       "883  19.0                 0.000000                 0.000000  1.647903   \n",
       "884   7.0                 0.580794                 0.965908  1.602117   \n",
       "885  26.0                 0.000000                 0.000000  1.647903   \n",
       "886  32.0                 0.000000                 0.000000  1.327975   \n",
       "\n",
       "     Pclass_1  Pclass_2  Pclass_3  Sex_female  Sex_male  \n",
       "0           0         0         1           0         1  \n",
       "1           1         0         0           1         0  \n",
       "2           0         0         1           1         0  \n",
       "3           1         0         0           1         0  \n",
       "4           0         0         1           0         1  \n",
       "..        ...       ...       ...         ...       ...  \n",
       "882         0         1         0           0         1  \n",
       "883         1         0         0           1         0  \n",
       "884         0         0         1           1         0  \n",
       "885         1         0         0           0         1  \n",
       "886         0         0         1           0         1  \n",
       "\n",
       "[887 rows x 9 columns]"
      ]
     },
     "execution_count": 32,
     "metadata": {},
     "output_type": "execute_result"
    }
   ],
   "source": [
    "#Removendo nomes e survived\n",
    "df2 = df.drop(['Name','Survived'], axis=1)\n",
    "#Criando dummies\n",
    "df_dummie = pd.get_dummies(df2).reset_index(drop=True)\n",
    "df_dummie"
   ]
  },
  {
   "cell_type": "code",
   "execution_count": 33,
   "metadata": {},
   "outputs": [
    {
     "name": "stdout",
     "output_type": "stream",
     "text": [
      "DF (887, 8)\n",
      "Dummie DF  (887, 9)\n"
     ]
    }
   ],
   "source": [
    "#Verificando o shape do nossos DF\n",
    "#Checking overall result and DF Shape\n",
    "print('DF', df.shape)\n",
    "print('Dummie DF ', df_dummie.shape)"
   ]
  },
  {
   "cell_type": "markdown",
   "metadata": {},
   "source": [
    "# Aplicando Machine Learning"
   ]
  },
  {
   "cell_type": "code",
   "execution_count": 93,
   "metadata": {},
   "outputs": [
    {
     "name": "stdout",
     "output_type": "stream",
     "text": [
      "\n",
      "******************************************************************************\n",
      "Imprimindo os dados de treino e teste\n",
      "69.90% nos dados de treino\n",
      "30.10% nos dados de teste\n",
      "******************************************************************************\n",
      "\n",
      "\n",
      "******************************************************************************\n",
      "Utilizando um classificador Naive Bayes\n",
      "Exatidão TREINO Naive Bayes (Accuracy): 0.7871\n",
      "\n",
      "Exatidão TESTE Naive Bayes(Accuracy): 0.7603\n",
      "******************************************************************************\n",
      "\n",
      "\n",
      "******************************************************************************\n",
      "Utilizando um classificador Regressao Logistica\n",
      "Exatidão TREINO Regressao Logistica (Accuracy): 0.8129\n",
      "\n",
      "Exatidão TESTE Regressao Logistica (Accuracy): 0.7528\n",
      "******************************************************************************\n",
      "\n",
      "\n",
      "******************************************************************************\n",
      "Utilizando um classificador Random Forrest\n",
      "Exatidão TREINO Random Forrest (Accuracy): 0.9855\n",
      "\n",
      "Exatidão TESTE Random Forrest (Accuracy): 0.7903\n",
      "******************************************************************************\n",
      "\n",
      "\n",
      "******************************************************************************\n",
      "Utilizando um classificador kNN (k-Nearest Neighbors)\n",
      "Exatidão TREINO kNN (Accuracy): 0.8532\n",
      "\n",
      "Exatidão TESTE kNN (Accuracy): 0.7640\n",
      "******************************************************************************\n",
      "\n",
      "\n",
      "******************************************************************************\n",
      "Utilizando um classificador Gradient Boosting Classifier\n"
     ]
    },
    {
     "name": "stderr",
     "output_type": "stream",
     "text": [
      "/Library/Python/3.7/site-packages/sklearn/ensemble/_gb.py:1454: DataConversionWarning: A column-vector y was passed when a 1d array was expected. Please change the shape of y to (n_samples, ), for example using ravel().\n",
      "  y = column_or_1d(y, warn=True)\n",
      "/Library/Python/3.7/site-packages/sklearn/utils/validation.py:760: DataConversionWarning: A column-vector y was passed when a 1d array was expected. Please change the shape of y to (n_samples, ), for example using ravel().\n",
      "  y = column_or_1d(y, warn=True)\n",
      "/Library/Python/3.7/site-packages/ipykernel_launcher.py:126: DataConversionWarning: A column-vector y was passed when a 1d array was expected. Please change the shape of y to (n_samples,), for example using ravel().\n"
     ]
    },
    {
     "name": "stdout",
     "output_type": "stream",
     "text": [
      "\n",
      "Exatidão Gradient Boosting Classifier (Accuracy): 0.8052\n",
      "80.52\n",
      "******************************************************************************\n",
      "\n",
      "\n",
      "******************************************************************************\n",
      "Utilizando um classificador Stochastic Gradient Descent\n",
      "\n",
      "Exatidão Stochastic Gradient Descent (Accuracy): 0.7154\n",
      "71.54\n",
      "******************************************************************************\n",
      "\n",
      "\n",
      "******************************************************************************\n",
      "Utilizando um classificador Random Forest 2\n",
      "\n",
      "Exatidão Random Forest 2 (Accuracy): 0.7828\n",
      "78.0\n",
      "******************************************************************************\n",
      "\n",
      "\n",
      "******************************************************************************\n",
      "Utilizando um classificador Decision Tree\n",
      "\n",
      "Exatidão Decision Tree (Accuracy): 0.7491\n",
      "74.91\n",
      "******************************************************************************\n",
      "\n",
      "\n",
      "******************************************************************************\n",
      "Utilizando um classificador Linear SVC\n",
      "\n",
      "Exatidão Linear SVC(Accuracy): 0.7378\n",
      "73.78\n",
      "******************************************************************************\n",
      "\n",
      "\n",
      "******************************************************************************\n",
      "Utilizando um classificador Support Vector Machines\n",
      "\n",
      "Exatidão Support Vector Machines (Accuracy): 0.6217\n",
      "62.17\n",
      "******************************************************************************\n",
      "\n"
     ]
    },
    {
     "name": "stderr",
     "output_type": "stream",
     "text": [
      "/Library/Python/3.7/site-packages/sklearn/utils/validation.py:760: DataConversionWarning: A column-vector y was passed when a 1d array was expected. Please change the shape of y to (n_samples, ), for example using ravel().\n",
      "  y = column_or_1d(y, warn=True)\n",
      "/Library/Python/3.7/site-packages/sklearn/svm/_base.py:947: ConvergenceWarning: Liblinear failed to converge, increase the number of iterations.\n",
      "  \"the number of iterations.\", ConvergenceWarning)\n",
      "/Library/Python/3.7/site-packages/sklearn/utils/validation.py:760: DataConversionWarning: A column-vector y was passed when a 1d array was expected. Please change the shape of y to (n_samples, ), for example using ravel().\n",
      "  y = column_or_1d(y, warn=True)\n"
     ]
    }
   ],
   "source": [
    "#Separando dados de treino e teste\n",
    "# Seleção de variáveis preditoras \n",
    "atributos2 = list(df_dummie.columns)\n",
    "# Selection the target feature\n",
    "atrib_prev2 = ['Survived']\n",
    "# Creating objetcs for ML\n",
    "X2 = df_dummie[atributos2].values\n",
    "Y2 = df[atrib_prev2].values\n",
    "# Definindo taxa de split\n",
    "split_test_size = 0.30\n",
    "#Criando objetos de treino e teste\n",
    "from sklearn.model_selection import train_test_split\n",
    "X2_treino, X2_teste, Y2_treino, Y2_teste = train_test_split(X2, Y2, test_size = split_test_size, random_state = 42)\n",
    "\n",
    "#Printing out the Test and Train frames information\n",
    "print(\"\\n******************************************************************************\")\n",
    "print(\"Imprimindo os dados de treino e teste\")\n",
    "print(\"{0:0.2f}% nos dados de treino\".format((len(X2_treino)/len(df_dummie.index)) * 100))\n",
    "print(\"{0:0.2f}% nos dados de teste\".format((len(X2_teste)/len(df_dummie.index)) * 100))\n",
    "print(\"******************************************************************************\\n\")\n",
    "\n",
    "results=[]\n",
    "\n",
    "# Utilizando um classificador Naive Bayes\n",
    "print(\"\\n******************************************************************************\")\n",
    "print(\"Utilizando um classificador Naive Bayes\")\n",
    "from sklearn.naive_bayes import GaussianNB\n",
    "from sklearn.metrics import mean_squared_error, r2_score\n",
    "from sklearn import metrics\n",
    "from sklearn.metrics import accuracy_score\n",
    "\n",
    "# Criando o modelo preditivo\n",
    "modelo_v1 = GaussianNB()\n",
    "# Treinando o modelo\n",
    "modelo_v1.fit(X2_treino, Y2_treino.ravel())\n",
    "# Verificando os dados de treino\n",
    "modelo_v1_train = modelo_v1.predict(X2_treino)\n",
    "print(\"Exatidão TREINO Naive Bayes (Accuracy): {0:.4f}\".format(metrics.accuracy_score(Y2_treino, modelo_v1_train)))\n",
    "# Verificando nos dados de teste\n",
    "modelo_v1_test = modelo_v1.predict(X2_teste)\n",
    "print(\"\\nExatidão TESTE Naive Bayes(Accuracy): {0:.4f}\".format(metrics.accuracy_score(Y2_teste, modelo_v1_test)))\n",
    "print(\"******************************************************************************\\n\")\n",
    "results.append(metrics.accuracy_score(Y2_teste, modelo_v1_test).round(2))\n",
    "\n",
    "# ALGORITMO DE REGRESSAO LOGISTICA\n",
    "print(\"\\n******************************************************************************\")\n",
    "print(\"Utilizando um classificador Regressao Logistica\")\n",
    "from sklearn.linear_model import LogisticRegression\n",
    "# versão do modelo usando Regressão Logística\n",
    "#C hist - C = 0.7\n",
    "modelo_v2 = LogisticRegression(C = 1e4, random_state = 42)\n",
    "modelo_v2.fit(X2_treino, Y2_treino.ravel())\n",
    "lr_predict_train = modelo_v2.predict(X2_treino)\n",
    "# Verificando os dados de treino\n",
    "modelo_v2_train = modelo_v2.predict(X2_treino)\n",
    "print(\"Exatidão TREINO Regressao Logistica (Accuracy): {0:.4f}\".format(metrics.accuracy_score(Y2_treino, modelo_v2_train)))\n",
    "# Verificando nos dados de teste\n",
    "modelo_v2_test = modelo_v2.predict(X2_teste)\n",
    "print(\"\\nExatidão TESTE Regressao Logistica (Accuracy): {0:.4f}\".format(metrics.accuracy_score(Y2_teste, modelo_v2_test)))\n",
    "print(\"******************************************************************************\\n\")\n",
    "results.append(metrics.accuracy_score(Y2_teste, modelo_v2_test).round(2))\n",
    "\n",
    "# ALGORITMO RANDOM FORREST\n",
    "print(\"\\n******************************************************************************\")\n",
    "print(\"Utilizando um classificador Random Forrest\")\n",
    "from sklearn.ensemble import RandomForestClassifier\n",
    "modelo_v4 = RandomForestClassifier(random_state = 40, n_jobs=10)\n",
    "modelo_v4.fit(X2_treino, Y2_treino.ravel())\n",
    "# Verificando os dados de treino\n",
    "modelo_v4_train = modelo_v4.predict(X2_treino)\n",
    "print(\"Exatidão TREINO Random Forrest (Accuracy): {0:.4f}\".format(metrics.accuracy_score(Y2_treino, modelo_v4_train)))\n",
    "# Verificando nos dados de teste\n",
    "modelo_v4_test = modelo_v4.predict(X2_teste)\n",
    "print(\"\\nExatidão TESTE Random Forrest (Accuracy): {0:.4f}\".format(metrics.accuracy_score(Y2_teste, modelo_v4_test)))\n",
    "print(\"******************************************************************************\\n\")\n",
    "results.append(metrics.accuracy_score(Y2_teste, modelo_v4_test).round(3))\n",
    "\n",
    "# ALGORITMO RkNN (k-Nearest Neighbors)\n",
    "print(\"\\n******************************************************************************\")\n",
    "print(\"Utilizando um classificador kNN (k-Nearest Neighbors)\")\n",
    "from sklearn.neighbors import KNeighborsClassifier\n",
    "modelo_v5=KNeighborsClassifier(n_neighbors=5)\n",
    "modelo_v5.fit(X2_treino, Y2_treino.ravel())\n",
    "# Verificando os dados de treino\n",
    "modelo_v5_train = modelo_v5.predict(X2_treino)\n",
    "print(\"Exatidão TREINO kNN (Accuracy): {0:.4f}\".format(metrics.accuracy_score(Y2_treino, modelo_v5_train)))\n",
    "# Verificando nos dados de teste\n",
    "modelo_v5_test = modelo_v5.predict(X2_teste)\n",
    "print(\"\\nExatidão TESTE kNN (Accuracy): {0:.4f}\".format(metrics.accuracy_score(Y2_teste, modelo_v5_test)))\n",
    "print(\"******************************************************************************\\n\")\n",
    "results.append(metrics.accuracy_score(Y2_teste, modelo_v5_test).round(2))\n",
    "\n",
    "# Gradient Boosting Classifier\n",
    "print(\"\\n******************************************************************************\")\n",
    "print(\"Utilizando um classificador Gradient Boosting Classifier\")\n",
    "from sklearn.ensemble import GradientBoostingClassifier\n",
    "gbk = GradientBoostingClassifier()\n",
    "gbk.fit(X2_treino, Y2_treino)\n",
    "gbk_pred = gbk.predict(X2_teste)\n",
    "# Verificando nos dados de teste\n",
    "acc_gbk = round(accuracy_score(gbk_pred, Y2_teste) * 100, 2)\n",
    "\n",
    "print(\"\\nExatidão Gradient Boosting Classifier (Accuracy): {0:.4f}\".format(metrics.accuracy_score(Y2_teste, gbk_pred)))\n",
    "print(acc_gbk)\n",
    "print(\"******************************************************************************\\n\")\n",
    "results.append(metrics.accuracy_score(Y2_teste, gbk_pred).round(3))\n",
    "\n",
    "# Stochastic Gradient Descent\n",
    "print(\"\\n******************************************************************************\")\n",
    "print(\"Utilizando um classificador Stochastic Gradient Descent\")\n",
    "from sklearn.linear_model import SGDClassifier\n",
    "sgd = SGDClassifier()\n",
    "sgd.fit(X2_treino, Y2_treino)\n",
    "y_pred = sgd.predict(X2_teste)\n",
    "acc_sgd = round(accuracy_score(y_pred, Y2_teste) * 100, 2)\n",
    "print(\"\\nExatidão Stochastic Gradient Descent (Accuracy): {0:.4f}\".format(metrics.accuracy_score(Y2_teste, y_pred)))\n",
    "print(acc_sgd)\n",
    "print(\"******************************************************************************\\n\")\n",
    "results.append(metrics.accuracy_score(Y2_teste, y_pred).round(2))\n",
    "\n",
    "# Random Forest 2\n",
    "print(\"\\n******************************************************************************\")\n",
    "print(\"Utilizando um classificador Random Forest 2\")\n",
    "from sklearn.ensemble import RandomForestClassifier\n",
    "randomforest = RandomForestClassifier()\n",
    "randomforest.fit(X2_treino, Y2_treino)\n",
    "y_pred = randomforest.predict(X2_teste)\n",
    "acc_randomforest = round(accuracy_score(y_pred, Y2_teste) * 100, )\n",
    "print(\"\\nExatidão Random Forest 2 (Accuracy): {0:.4f}\".format(metrics.accuracy_score(Y2_teste, y_pred)))\n",
    "print(acc_randomforest)\n",
    "print(\"******************************************************************************\\n\")\n",
    "results.append(metrics.accuracy_score(Y2_teste, y_pred).round(3))\n",
    "\n",
    "#Decision Tree\n",
    "print(\"\\n******************************************************************************\")\n",
    "print(\"Utilizando um classificador Decision Tree\")\n",
    "from sklearn.tree import DecisionTreeClassifier\n",
    "decisiontree = DecisionTreeClassifier()\n",
    "decisiontree.fit(X2_treino, Y2_treino)\n",
    "y_pred = decisiontree.predict(X2_teste)\n",
    "acc_decisiontree = round(accuracy_score(y_pred, Y2_teste) * 100, 2)\n",
    "print(\"\\nExatidão Decision Tree (Accuracy): {0:.4f}\".format(metrics.accuracy_score(Y2_teste, y_pred)))\n",
    "print(acc_decisiontree)\n",
    "print(\"******************************************************************************\\n\")\n",
    "results.append(metrics.accuracy_score(Y2_teste, y_pred).round(2))\n",
    "\n",
    "# Linear SVC\n",
    "print(\"\\n******************************************************************************\")\n",
    "print(\"Utilizando um classificador Linear SVC\")\n",
    "from sklearn.svm import LinearSVC\n",
    "linear_svc = LinearSVC()\n",
    "linear_svc.fit(X2_treino, Y2_treino)\n",
    "y_pred = linear_svc.predict(X2_teste)\n",
    "acc_linear_svc = round(accuracy_score(y_pred, Y2_teste) * 100, 2)\n",
    "print(\"\\nExatidão Linear SVC(Accuracy): {0:.4f}\".format(metrics.accuracy_score(Y2_teste, y_pred)))\n",
    "print(acc_linear_svc)\n",
    "print(\"******************************************************************************\\n\")\n",
    "results.append(metrics.accuracy_score(Y2_teste, y_pred).round(2))\n",
    "\n",
    "# Support Vector Machines\n",
    "print(\"\\n******************************************************************************\")\n",
    "print(\"Utilizando um classificador Support Vector Machines\")\n",
    "from sklearn.svm import SVC\n",
    "\n",
    "svc = SVC()\n",
    "svc.fit(X2_treino, Y2_treino)\n",
    "y_pred = svc.predict(X2_teste)\n",
    "acc_svc = round(accuracy_score(y_pred, Y2_teste) * 100, 2)\n",
    "print(\"\\nExatidão Support Vector Machines (Accuracy): {0:.4f}\".format(metrics.accuracy_score(Y2_teste, y_pred)))\n",
    "print(acc_svc)\n",
    "print(\"******************************************************************************\\n\")\n",
    "results.append(metrics.accuracy_score(Y2_teste, y_pred).round(2))\n",
    "modelsdf = pd.DataFrame(results,index=['NaiveBayes','RegrLog','RndFrst1','RkNN','GBC','SGD','RndFrst2','DecTree','SVC1','SVC2']\\\n",
    "                        , columns=['Exatidao'])\n"
   ]
  },
  {
   "cell_type": "code",
   "execution_count": 94,
   "metadata": {},
   "outputs": [
    {
     "data": {
      "text/html": [
       "<div>\n",
       "<style scoped>\n",
       "    .dataframe tbody tr th:only-of-type {\n",
       "        vertical-align: middle;\n",
       "    }\n",
       "\n",
       "    .dataframe tbody tr th {\n",
       "        vertical-align: top;\n",
       "    }\n",
       "\n",
       "    .dataframe thead th {\n",
       "        text-align: right;\n",
       "    }\n",
       "</style>\n",
       "<table border=\"1\" class=\"dataframe\">\n",
       "  <thead>\n",
       "    <tr style=\"text-align: right;\">\n",
       "      <th></th>\n",
       "      <th>Exatidao</th>\n",
       "    </tr>\n",
       "  </thead>\n",
       "  <tbody>\n",
       "    <tr>\n",
       "      <th>GBC</th>\n",
       "      <td>0.805</td>\n",
       "    </tr>\n",
       "    <tr>\n",
       "      <th>RndFrst1</th>\n",
       "      <td>0.790</td>\n",
       "    </tr>\n",
       "    <tr>\n",
       "      <th>RndFrst2</th>\n",
       "      <td>0.783</td>\n",
       "    </tr>\n",
       "    <tr>\n",
       "      <th>NaiveBayes</th>\n",
       "      <td>0.760</td>\n",
       "    </tr>\n",
       "    <tr>\n",
       "      <th>RkNN</th>\n",
       "      <td>0.760</td>\n",
       "    </tr>\n",
       "    <tr>\n",
       "      <th>RegrLog</th>\n",
       "      <td>0.750</td>\n",
       "    </tr>\n",
       "    <tr>\n",
       "      <th>DecTree</th>\n",
       "      <td>0.750</td>\n",
       "    </tr>\n",
       "    <tr>\n",
       "      <th>SVC1</th>\n",
       "      <td>0.740</td>\n",
       "    </tr>\n",
       "    <tr>\n",
       "      <th>SGD</th>\n",
       "      <td>0.720</td>\n",
       "    </tr>\n",
       "    <tr>\n",
       "      <th>SVC2</th>\n",
       "      <td>0.620</td>\n",
       "    </tr>\n",
       "  </tbody>\n",
       "</table>\n",
       "</div>"
      ],
      "text/plain": [
       "            Exatidao\n",
       "GBC            0.805\n",
       "RndFrst1       0.790\n",
       "RndFrst2       0.783\n",
       "NaiveBayes     0.760\n",
       "RkNN           0.760\n",
       "RegrLog        0.750\n",
       "DecTree        0.750\n",
       "SVC1           0.740\n",
       "SGD            0.720\n",
       "SVC2           0.620"
      ]
     },
     "execution_count": 94,
     "metadata": {},
     "output_type": "execute_result"
    }
   ],
   "source": [
    "modelsdf.sort_values(by = 'Exatidao', ascending=False)"
   ]
  },
  {
   "cell_type": "markdown",
   "metadata": {},
   "source": [
    "* O Algoritmo Gradient Boosting Classifier teve o melhor desempenho nesta tarefa, com uma exatidão de 80% nos dados desconhecidos."
   ]
  },
  {
   "cell_type": "markdown",
   "metadata": {},
   "source": [
    "## Verificando a Matriz de Confusão para Gradient Boosting Classifier"
   ]
  },
  {
   "cell_type": "code",
   "execution_count": 125,
   "metadata": {},
   "outputs": [
    {
     "name": "stdout",
     "output_type": "stream",
     "text": [
      "************************************************************************************\n",
      "Matriz de Confusão\n",
      "\n",
      "    1    0\n",
      "1  68   33\n",
      "0  19  147\n",
      "************************************************************************************\n",
      "************************************************************************************\n",
      "                   Relatório de Classificação\n",
      "\n",
      "              precision    recall  f1-score   support\n",
      "\n",
      "           1       0.78      0.67      0.72       101\n",
      "           0       0.82      0.89      0.85       166\n",
      "\n",
      "    accuracy                           0.81       267\n",
      "   macro avg       0.80      0.78      0.79       267\n",
      "weighted avg       0.80      0.81      0.80       267\n",
      "\n",
      "************************************************************************************\n"
     ]
    }
   ],
   "source": [
    "#Imprimindo e analisando a Matriz de confusão\n",
    "print(\"************************************************************************************\")\n",
    "print(\"Matriz de Confusão\\n\")\n",
    "dado = metrics.confusion_matrix(Y2_teste, gbk_pred, labels = [1, 0])\n",
    "dfco = pd.DataFrame(dado, index = [1,0], columns = [1,0])\n",
    "print(dfco)\n",
    "print(\"************************************************************************************\")\n",
    "\n",
    "print(\"************************************************************************************\")\n",
    "print(\"                   Relatório de Classificação\\n\")\n",
    "print(metrics.classification_report(Y2_teste, gbk_pred, labels = [1, 0]))\n",
    "print(\"************************************************************************************\")"
   ]
  },
  {
   "cell_type": "code",
   "execution_count": null,
   "metadata": {},
   "outputs": [],
   "source": []
  }
 ],
 "metadata": {
  "kernelspec": {
   "display_name": "Python 3",
   "language": "python",
   "name": "python3"
  },
  "language_info": {
   "codemirror_mode": {
    "name": "ipython",
    "version": 3
   },
   "file_extension": ".py",
   "mimetype": "text/x-python",
   "name": "python",
   "nbconvert_exporter": "python",
   "pygments_lexer": "ipython3",
   "version": "3.7.3"
  }
 },
 "nbformat": 4,
 "nbformat_minor": 2
}
